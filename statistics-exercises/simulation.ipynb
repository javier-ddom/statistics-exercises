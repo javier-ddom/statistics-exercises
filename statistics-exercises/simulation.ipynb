{
 "cells": [
  {
   "cell_type": "code",
   "execution_count": 12,
   "id": "bf3c16df",
   "metadata": {},
   "outputs": [],
   "source": [
    "%matplotlib inline\n",
    "import numpy as np\n",
    "import pandas as pd\n",
    "\n",
    "import viz # curriculum example visualizations\n",
    "\n",
    "np.random.seed(29)\n"
   ]
  },
  {
   "cell_type": "code",
   "execution_count": 13,
   "id": "bd6ddedc",
   "metadata": {},
   "outputs": [],
   "source": [
    "#HOW LIKELY IS IT TO ROLL DOUBLES"
   ]
  },
  {
   "cell_type": "code",
   "execution_count": 14,
   "id": "074c6a71",
   "metadata": {},
   "outputs": [],
   "source": [
    "n_trials = nrows = 10_000\n",
    "n_dice = ncols = 2\n",
    "\n",
    "rolls = np.random.choice([1, 2, 3, 4, 5, 6], n_trials * n_dice).reshape(nrows, ncols)\n"
   ]
  },
  {
   "cell_type": "code",
   "execution_count": 23,
   "id": "8a4e8a2c",
   "metadata": {},
   "outputs": [
    {
     "data": {
      "text/plain": [
       "4"
      ]
     },
     "execution_count": 23,
     "metadata": {},
     "output_type": "execute_result"
    }
   ],
   "source": [
    "rolls[]"
   ]
  },
  {
   "cell_type": "code",
   "execution_count": 27,
   "id": "fa4aedfa",
   "metadata": {},
   "outputs": [
    {
     "data": {
      "text/plain": [
       "1709"
      ]
     },
     "execution_count": 27,
     "metadata": {},
     "output_type": "execute_result"
    }
   ],
   "source": [
    "is_do = 0\n",
    "x = 0\n",
    "for i in rolls:\n",
    "    if rolls[x,0] == rolls[x,1]:\n",
    "        is_do += 1\n",
    "        x += 1\n",
    "    else:\n",
    "        x += 1\n",
    "is_do "
   ]
  },
  {
   "cell_type": "code",
   "execution_count": 34,
   "id": "9485c9ad",
   "metadata": {},
   "outputs": [
    {
     "name": "stdout",
     "output_type": "stream",
     "text": [
      "Percent likelyhood of doubles:\n"
     ]
    },
    {
     "data": {
      "text/plain": [
       "17.09"
      ]
     },
     "execution_count": 34,
     "metadata": {},
     "output_type": "execute_result"
    }
   ],
   "source": [
    "print('Percent likelyhood of doubles:')\n",
    "(is_do / 10_000 ) * 100"
   ]
  },
  {
   "cell_type": "code",
   "execution_count": null,
   "id": "47feb109",
   "metadata": {},
   "outputs": [],
   "source": []
  },
  {
   "cell_type": "code",
   "execution_count": null,
   "id": "ea3b7c53",
   "metadata": {},
   "outputs": [],
   "source": []
  },
  {
   "cell_type": "code",
   "execution_count": 37,
   "id": "359d39a6",
   "metadata": {},
   "outputs": [
    {
     "data": {
      "text/plain": [
       "array([[1, 1, 0, ..., 0, 1, 0],\n",
       "       [1, 1, 1, ..., 0, 1, 0],\n",
       "       [0, 1, 1, ..., 0, 0, 1],\n",
       "       ...,\n",
       "       [1, 1, 1, ..., 0, 0, 1],\n",
       "       [0, 0, 1, ..., 1, 0, 1],\n",
       "       [1, 1, 1, ..., 0, 0, 0]])"
      ]
     },
     "execution_count": 37,
     "metadata": {},
     "output_type": "execute_result"
    }
   ],
   "source": [
    "#COIN FLIPS\n",
    "c_trials = nrows = 100_000\n",
    "c_flips = ncols = 8\n",
    "\n",
    "flips = np.random.choice([0, 1], c_trials * c_flips).reshape(nrows, ncols)\n",
    "flips"
   ]
  },
  {
   "cell_type": "code",
   "execution_count": 60,
   "id": "81c17466",
   "metadata": {},
   "outputs": [],
   "source": [
    "#chance for 3/8 heads\n",
    "three_exact = flips.sum(axis=1)\n",
    "test = (three_exact == 3)"
   ]
  },
  {
   "cell_type": "code",
   "execution_count": 66,
   "id": "5db87476",
   "metadata": {},
   "outputs": [
    {
     "data": {
      "text/plain": [
       "21.952"
      ]
     },
     "execution_count": 66,
     "metadata": {},
     "output_type": "execute_result"
    }
   ],
   "source": [
    "(np.count_nonzero(test)) / 1000 #OUR EXPECTED PERCENTAGE OF EXACTLY 3 HEADS"
   ]
  },
  {
   "cell_type": "code",
   "execution_count": 67,
   "id": "40ec26c4",
   "metadata": {},
   "outputs": [],
   "source": [
    "#CHANCE FOR MORE THAN THREE HEADS"
   ]
  },
  {
   "cell_type": "code",
   "execution_count": 68,
   "id": "dc99ccd4",
   "metadata": {},
   "outputs": [],
   "source": [
    "three_plus = flips.sum(axis=1)\n",
    "test = (three_plus >= 3)"
   ]
  },
  {
   "cell_type": "code",
   "execution_count": 71,
   "id": "8b3e44ff",
   "metadata": {},
   "outputs": [
    {
     "data": {
      "text/plain": [
       "array([ True,  True,  True, ...,  True,  True,  True])"
      ]
     },
     "execution_count": 71,
     "metadata": {},
     "output_type": "execute_result"
    }
   ],
   "source": [
    "test"
   ]
  },
  {
   "cell_type": "code",
   "execution_count": 74,
   "id": "aea5fb48",
   "metadata": {},
   "outputs": [
    {
     "data": {
      "text/plain": [
       "85.742"
      ]
     },
     "execution_count": 74,
     "metadata": {},
     "output_type": "execute_result"
    }
   ],
   "source": [
    "test.sum()/1000 #EXPECTED PERCENT CHANCE OF GETTING 4 OR MORE FLIPS TO GO YOUR WAY"
   ]
  },
  {
   "cell_type": "code",
   "execution_count": null,
   "id": "8253b823",
   "metadata": {},
   "outputs": [],
   "source": []
  },
  {
   "cell_type": "code",
   "execution_count": 75,
   "id": "464f7b38",
   "metadata": {},
   "outputs": [],
   "source": [
    "#ONE IN 4 CHANCE OF SELECTING DS OVER WEB DEV"
   ]
  },
  {
   "cell_type": "code",
   "execution_count": 77,
   "id": "2dc55004",
   "metadata": {},
   "outputs": [
    {
     "data": {
      "text/plain": [
       "array([['DS', 'WD'],\n",
       "       ['DS', 'WD'],\n",
       "       ['WD', 'WD'],\n",
       "       ...,\n",
       "       ['WD', 'DS'],\n",
       "       ['WD', 'WD'],\n",
       "       ['DS', 'WD']], dtype='<U2')"
      ]
     },
     "execution_count": 77,
     "metadata": {},
     "output_type": "execute_result"
    }
   ],
   "source": [
    "p_trials = nrows = 100_000\n",
    "p_picks = ncols = 2\n",
    "\n",
    "picks = np.random.choice(['DS', 'WD', 'WD', 'WD'], p_trials * p_picks).reshape(nrows, ncols)\n",
    "picks"
   ]
  },
  {
   "cell_type": "code",
   "execution_count": null,
   "id": "4a7739e1",
   "metadata": {},
   "outputs": [],
   "source": []
  },
  {
   "cell_type": "code",
   "execution_count": 99,
   "id": "b6707ca4",
   "metadata": {},
   "outputs": [
    {
     "data": {
      "text/plain": [
       "6.256"
      ]
     },
     "execution_count": 99,
     "metadata": {},
     "output_type": "execute_result"
    }
   ],
   "source": [
    "is_bo = 0\n",
    "xx = 0\n",
    "for i in picks:\n",
    "    if ((picks[xx, 0] == 'DS') and (picks[xx, 1] == 'DS')):\n",
    "        is_bo += 1\n",
    "        xx += 1\n",
    "    else:\n",
    "        xx += 1\n",
    "is_bo / 1000"
   ]
  },
  {
   "cell_type": "code",
   "execution_count": 100,
   "id": "f6432a02",
   "metadata": {},
   "outputs": [],
   "source": [
    "#EXPECTED CHANC OF 2 DS BILLBOARDS"
   ]
  },
  {
   "cell_type": "code",
   "execution_count": null,
   "id": "b62db781",
   "metadata": {},
   "outputs": [],
   "source": []
  },
  {
   "cell_type": "code",
   "execution_count": null,
   "id": "2a4e21a4",
   "metadata": {},
   "outputs": [],
   "source": []
  },
  {
   "cell_type": "code",
   "execution_count": null,
   "id": "c8134697",
   "metadata": {},
   "outputs": [],
   "source": [
    "np.random.normal"
   ]
  },
  {
   "cell_type": "code",
   "execution_count": 101,
   "id": "3bc14f86",
   "metadata": {},
   "outputs": [],
   "source": [
    "#EXPECTED COBSUMPTION OF POPTARTS, 3+-1.5, 17 STOCKED, ANY AVAIL ON FRIADY"
   ]
  },
  {
   "cell_type": "code",
   "execution_count": 127,
   "id": "af295561",
   "metadata": {},
   "outputs": [],
   "source": [
    "poptarts = np.random.normal(3, 1.5, size=(7,100000))\n",
    "#poptarts"
   ]
  },
  {
   "cell_type": "code",
   "execution_count": 135,
   "id": "a6b877d0",
   "metadata": {},
   "outputs": [
    {
     "data": {
      "text/plain": [
       "-4.2219734237260225"
      ]
     },
     "execution_count": 135,
     "metadata": {},
     "output_type": "execute_result"
    }
   ],
   "source": [
    "negative = poptarts.min() #find the lowest value to adjust by so we can have all positive numbers\n",
    "negative"
   ]
  },
  {
   "cell_type": "code",
   "execution_count": 139,
   "id": "ef833a47",
   "metadata": {},
   "outputs": [
    {
     "data": {
      "text/plain": [
       "98.061"
      ]
     },
     "execution_count": 139,
     "metadata": {},
     "output_type": "execute_result"
    }
   ],
   "source": [
    "adjusted_tart = poptarts - negative\n",
    "final_tart = (adjusted_tart.sum(axis=0) + (negative*5))\n",
    "ran_out = final_tart < (17 - negative)\n",
    "100 - (ran_out.sum() / 1000) #Percent chance there will be no poptarts friday afternoon"
   ]
  },
  {
   "cell_type": "code",
   "execution_count": null,
   "id": "837a6d5d",
   "metadata": {},
   "outputs": [],
   "source": []
  }
 ],
 "metadata": {
  "kernelspec": {
   "display_name": "Python 3 (ipykernel)",
   "language": "python",
   "name": "python3"
  },
  "language_info": {
   "codemirror_mode": {
    "name": "ipython",
    "version": 3
   },
   "file_extension": ".py",
   "mimetype": "text/x-python",
   "name": "python",
   "nbconvert_exporter": "python",
   "pygments_lexer": "ipython3",
   "version": "3.9.12"
  }
 },
 "nbformat": 4,
 "nbformat_minor": 5
}
