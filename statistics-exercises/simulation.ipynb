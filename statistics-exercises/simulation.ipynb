{
 "cells": [
  {
   "cell_type": "code",
   "execution_count": 12,
   "id": "9df4ea63",
   "metadata": {},
   "outputs": [],
   "source": [
    "%matplotlib inline\n",
    "import numpy as np\n",
    "import pandas as pd\n",
    "\n",
    "import viz # curriculum example visualizations\n",
    "\n",
    "np.random.seed(29)\n"
   ]
  },
  {
   "cell_type": "code",
   "execution_count": 13,
   "id": "61a066af",
   "metadata": {},
   "outputs": [],
   "source": [
    "#HOW LIKELY IS IT TO ROLL DOUBLES"
   ]
  },
  {
   "cell_type": "code",
   "execution_count": 14,
   "id": "35545bfe",
   "metadata": {},
   "outputs": [],
   "source": [
    "n_trials = nrows = 10_000\n",
    "n_dice = ncols = 2\n",
    "\n",
    "rolls = np.random.choice([1, 2, 3, 4, 5, 6], n_trials * n_dice).reshape(nrows, ncols)\n"
   ]
  },
  {
   "cell_type": "code",
   "execution_count": 23,
   "id": "a3a26aaf",
   "metadata": {},
   "outputs": [
    {
     "data": {
      "text/plain": [
       "4"
      ]
     },
     "execution_count": 23,
     "metadata": {},
     "output_type": "execute_result"
    }
   ],
   "source": [
    "rolls[]"
   ]
  },
  {
   "cell_type": "code",
   "execution_count": 27,
   "id": "cb2ba77a",
   "metadata": {},
   "outputs": [
    {
     "data": {
      "text/plain": [
       "1709"
      ]
     },
     "execution_count": 27,
     "metadata": {},
     "output_type": "execute_result"
    }
   ],
   "source": [
    "is_do = 0\n",
    "x = 0\n",
    "for i in rolls:\n",
    "    if rolls[x,0] == rolls[x,1]:\n",
    "        is_do += 1\n",
    "        x += 1\n",
    "    else:\n",
    "        x += 1\n",
    "is_do "
   ]
  },
  {
   "cell_type": "code",
   "execution_count": 34,
   "id": "db1900d6",
   "metadata": {},
   "outputs": [
    {
     "name": "stdout",
     "output_type": "stream",
     "text": [
      "Percent likelyhood of doubles:\n"
     ]
    },
    {
     "data": {
      "text/plain": [
       "17.09"
      ]
     },
     "execution_count": 34,
     "metadata": {},
     "output_type": "execute_result"
    }
   ],
   "source": [
    "print('Percent likelyhood of doubles:')\n",
    "(is_do / 10_000 ) * 100"
   ]
  },
  {
   "cell_type": "code",
   "execution_count": null,
   "id": "71f563d3",
   "metadata": {},
   "outputs": [],
   "source": []
  },
  {
   "cell_type": "code",
   "execution_count": null,
   "id": "81b8caaf",
   "metadata": {},
   "outputs": [],
   "source": []
  },
  {
   "cell_type": "code",
   "execution_count": 37,
   "id": "0f913f91",
   "metadata": {},
   "outputs": [
    {
     "data": {
      "text/plain": [
       "array([[1, 1, 0, ..., 0, 1, 0],\n",
       "       [1, 1, 1, ..., 0, 1, 0],\n",
       "       [0, 1, 1, ..., 0, 0, 1],\n",
       "       ...,\n",
       "       [1, 1, 1, ..., 0, 0, 1],\n",
       "       [0, 0, 1, ..., 1, 0, 1],\n",
       "       [1, 1, 1, ..., 0, 0, 0]])"
      ]
     },
     "execution_count": 37,
     "metadata": {},
     "output_type": "execute_result"
    }
   ],
   "source": [
    "#COIN FLIPS\n",
    "c_trials = nrows = 100_000\n",
    "c_flips = ncols = 8\n",
    "\n",
    "flips = np.random.choice([0, 1], c_trials * c_flips).reshape(nrows, ncols)\n",
    "flips"
   ]
  },
  {
   "cell_type": "code",
   "execution_count": 60,
   "id": "7671ba46",
   "metadata": {},
   "outputs": [],
   "source": [
    "#chance for 3/8 heads\n",
    "three_exact = flips.sum(axis=1)\n",
    "test = (three_exact == 3)"
   ]
  },
  {
   "cell_type": "code",
   "execution_count": 66,
   "id": "5590c7ba",
   "metadata": {},
   "outputs": [
    {
     "data": {
      "text/plain": [
       "21.952"
      ]
     },
     "execution_count": 66,
     "metadata": {},
     "output_type": "execute_result"
    }
   ],
   "source": [
    "(np.count_nonzero(test)) / 1000 #OUR EXPECTED PERCENTAGE OF EXACTLY 3 HEADS"
   ]
  },
  {
   "cell_type": "code",
   "execution_count": 67,
   "id": "355a588c",
   "metadata": {},
   "outputs": [],
   "source": [
    "#CHANCE FOR MORE THAN THREE HEADS"
   ]
  },
  {
   "cell_type": "code",
   "execution_count": 68,
   "id": "9a82bbd4",
   "metadata": {},
   "outputs": [],
   "source": [
    "three_plus = flips.sum(axis=1)\n",
    "test = (three_plus >= 3)"
   ]
  },
  {
   "cell_type": "code",
   "execution_count": 71,
   "id": "a12940e9",
   "metadata": {},
   "outputs": [
    {
     "data": {
      "text/plain": [
       "array([ True,  True,  True, ...,  True,  True,  True])"
      ]
     },
     "execution_count": 71,
     "metadata": {},
     "output_type": "execute_result"
    }
   ],
   "source": [
    "test"
   ]
  },
  {
   "cell_type": "code",
   "execution_count": 74,
   "id": "1d1be8cb",
   "metadata": {},
   "outputs": [
    {
     "data": {
      "text/plain": [
       "85.742"
      ]
     },
     "execution_count": 74,
     "metadata": {},
     "output_type": "execute_result"
    }
   ],
   "source": [
    "test.sum()/1000 #EXPECTED PERCENT CHANCE OF GETTING 4 OR MORE FLIPS TO GO YOUR WAY"
   ]
  },
  {
   "cell_type": "code",
   "execution_count": null,
   "id": "e7c6db49",
   "metadata": {},
   "outputs": [],
   "source": []
  },
  {
   "cell_type": "code",
   "execution_count": 75,
   "id": "d68c5ffd",
   "metadata": {},
   "outputs": [],
   "source": [
    "#ONE IN 4 CHANCE OF SELECTING DS OVER WEB DEV"
   ]
  },
  {
   "cell_type": "code",
   "execution_count": 77,
   "id": "46fdc5ed",
   "metadata": {},
   "outputs": [
    {
     "data": {
      "text/plain": [
       "array([['DS', 'WD'],\n",
       "       ['DS', 'WD'],\n",
       "       ['WD', 'WD'],\n",
       "       ...,\n",
       "       ['WD', 'DS'],\n",
       "       ['WD', 'WD'],\n",
       "       ['DS', 'WD']], dtype='<U2')"
      ]
     },
     "execution_count": 77,
     "metadata": {},
     "output_type": "execute_result"
    }
   ],
   "source": [
    "p_trials = nrows = 100_000\n",
    "p_picks = ncols = 2\n",
    "\n",
    "picks = np.random.choice(['DS', 'WD', 'WD', 'WD'], p_trials * p_picks).reshape(nrows, ncols)\n",
    "picks"
   ]
  },
  {
   "cell_type": "code",
   "execution_count": null,
   "id": "8a426405",
   "metadata": {},
   "outputs": [],
   "source": []
  },
  {
   "cell_type": "code",
   "execution_count": 99,
   "id": "9b764fae",
   "metadata": {},
   "outputs": [
    {
     "data": {
      "text/plain": [
       "6.256"
      ]
     },
     "execution_count": 99,
     "metadata": {},
     "output_type": "execute_result"
    }
   ],
   "source": [
    "is_bo = 0\n",
    "xx = 0\n",
    "for i in picks:\n",
    "    if ((picks[xx, 0] == 'DS') and (picks[xx, 1] == 'DS')):\n",
    "        is_bo += 1\n",
    "        xx += 1\n",
    "    else:\n",
    "        xx += 1\n",
    "is_bo / 1000"
   ]
  },
  {
   "cell_type": "code",
   "execution_count": 100,
   "id": "6e364a6b",
   "metadata": {},
   "outputs": [],
   "source": [
    "#EXPECTED CHANC OF 2 DS BILLBOARDS"
   ]
  },
  {
   "cell_type": "code",
   "execution_count": null,
   "id": "8898d94d",
   "metadata": {},
   "outputs": [],
   "source": []
  },
  {
   "cell_type": "code",
   "execution_count": null,
   "id": "b869df21",
   "metadata": {},
   "outputs": [],
   "source": []
  },
  {
   "cell_type": "code",
   "execution_count": null,
   "id": "b24b04d0",
   "metadata": {},
   "outputs": [],
   "source": [
    "np.random.normal"
   ]
  },
  {
   "cell_type": "code",
   "execution_count": 101,
   "id": "7c435923",
   "metadata": {},
   "outputs": [],
   "source": [
    "#EXPECTED COBSUMPTION OF POPTARTS, 3+-1.5, 17 STOCKED, ANY AVAIL ON FRIADY"
   ]
  },
  {
   "cell_type": "code",
   "execution_count": 107,
   "id": "c303a450",
   "metadata": {},
   "outputs": [],
   "source": [
    "poptarts = np.random.normal(3, 1.5, size=(17,100000))"
   ]
  },
  {
   "cell_type": "code",
   "execution_count": 108,
   "id": "48b56344",
   "metadata": {},
   "outputs": [
    {
     "data": {
      "text/plain": [
       "array([[ 2.82399763,  5.83822888,  3.88640695, ...,  3.49583485,\n",
       "         0.95514468,  2.43265697],\n",
       "       [ 3.32052207,  2.71715607,  3.83643125, ...,  2.34765318,\n",
       "         1.22316589,  0.04991995],\n",
       "       [ 2.64734372,  4.07799489,  3.00266057, ...,  5.53262797,\n",
       "         3.62080226,  4.63286657],\n",
       "       ...,\n",
       "       [ 2.65700889,  3.04064384,  2.13907482, ...,  2.86504871,\n",
       "         2.34446153,  4.36565789],\n",
       "       [ 3.21222104,  4.80119836,  3.08546296, ...,  2.08040507,\n",
       "         0.78861789,  5.81074729],\n",
       "       [ 2.62487337,  1.13048585,  0.74494299, ...,  2.18498331,\n",
       "        -0.05147444,  5.26978013]])"
      ]
     },
     "execution_count": 108,
     "metadata": {},
     "output_type": "execute_result"
    }
   ],
   "source": [
    "poptarts"
   ]
  },
  {
   "cell_type": "code",
   "execution_count": null,
   "id": "ed3d9f88",
   "metadata": {},
   "outputs": [],
   "source": []
  }
 ],
 "metadata": {
  "kernelspec": {
   "display_name": "Python 3 (ipykernel)",
   "language": "python",
   "name": "python3"
  },
  "language_info": {
   "codemirror_mode": {
    "name": "ipython",
    "version": 3
   },
   "file_extension": ".py",
   "mimetype": "text/x-python",
   "name": "python",
   "nbconvert_exporter": "python",
   "pygments_lexer": "ipython3",
   "version": "3.9.12"
  }
 },
 "nbformat": 4,
 "nbformat_minor": 5
}
